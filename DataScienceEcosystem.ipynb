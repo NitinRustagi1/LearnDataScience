{
 "cells": [
  {
   "cell_type": "markdown",
   "id": "fe5429ac-0ee6-488d-9e5b-271f7938bc1f",
   "metadata": {},
   "source": [
    "# Data Science Tools and Ecosystem"
   ]
  },
  {
   "cell_type": "markdown",
   "id": "2481e9ac-c010-4b81-8e07-2a81c4f88b07",
   "metadata": {},
   "source": [
    "In this notebook, Data Science Tools and Ecosystem are summarized."
   ]
  },
  {
   "cell_type": "markdown",
   "id": "cf8c2521-68ab-468d-923d-0ca836f67929",
   "metadata": {},
   "source": [
    " Some of the key takeaways from the course"
   ]
  },
  {
   "cell_type": "markdown",
   "id": "8028e147-bffd-48e4-8b6c-800f5945a40d",
   "metadata": {},
   "source": [
    "**Objectives:**\n",
    "- Popular languages of the Data Science\n",
    "- Commonly used libraries in Data Science\n",
    "- Data Science Tools"
   ]
  },
  {
   "cell_type": "markdown",
   "id": "f97dbea2-7f6a-4d76-a4f3-c1f3662fae75",
   "metadata": {},
   "source": [
    "## Author\n",
    "Nitin Rustagi"
   ]
  },
  {
   "cell_type": "markdown",
   "id": "6bb1e00d-72b3-45f4-8eed-c73ba8755889",
   "metadata": {},
   "source": [
    "Some of the popular languages that Data Scientists use are:"
   ]
  },
  {
   "cell_type": "markdown",
   "id": "ea71eec2-fddb-4cc0-b4b6-db5c5fd6738d",
   "metadata": {},
   "source": [
    "1. Python\n",
    "2. Java\n",
    "3. Julia"
   ]
  },
  {
   "cell_type": "markdown",
   "id": "755a0b6f-2729-47a2-89bd-03b3239f8576",
   "metadata": {},
   "source": [
    "Some of the commonly used libraries used by Data Scientists include:"
   ]
  },
  {
   "cell_type": "markdown",
   "id": "26fee3fc-e28a-46e2-bc47-25888231a562",
   "metadata": {},
   "source": [
    "1. Numpy\n",
    "2. Pandas\n",
    "3. Scikit-Learn"
   ]
  },
  {
   "cell_type": "markdown",
   "id": "7fcf560d-9dca-4965-a1da-9f3c1de57971",
   "metadata": {},
   "source": [
    "|Data Science Tools|\n",
    "| ----------- | \n",
    "| Google Collab |\n",
    "| Jupyter Notebook |\n",
    "| Spyder |"
   ]
  },
  {
   "cell_type": "markdown",
   "id": "daca087d-6a43-4b32-8952-dcee7bf35d76",
   "metadata": {},
   "source": [
    "### Below are a few examples of evaluating arithmetic expressions in Python."
   ]
  },
  {
   "cell_type": "code",
   "execution_count": null,
   "id": "f57b74e8-530f-4242-a9fc-5e9891470fb3",
   "metadata": {},
   "outputs": [],
   "source": [
    "#  This a simple arithmetic expression to mutiply then add integers"
   ]
  },
  {
   "cell_type": "code",
   "execution_count": 1,
   "id": "dacc3fd5-7462-475b-881d-fc290eabbcce",
   "metadata": {
    "tags": []
   },
   "outputs": [
    {
     "data": {
      "text/plain": [
       "17"
      ]
     },
     "execution_count": 1,
     "metadata": {},
     "output_type": "execute_result"
    }
   ],
   "source": [
    "(3*4)+5"
   ]
  },
  {
   "cell_type": "code",
   "execution_count": 2,
   "id": "2b7338e9-d75b-46ef-933e-96402cb8af07",
   "metadata": {
    "tags": []
   },
   "outputs": [
    {
     "data": {
      "text/plain": [
       "3.3333333333333335"
      ]
     },
     "execution_count": 2,
     "metadata": {},
     "output_type": "execute_result"
    }
   ],
   "source": [
    "#This will convert 200 minutes to hours by diving by 60\n",
    "200/60"
   ]
  },
  {
   "cell_type": "code",
   "execution_count": null,
   "id": "ef5b82d2-8bfe-4b44-9b9b-0afa41faa4f0",
   "metadata": {},
   "outputs": [],
   "source": []
  }
 ],
 "metadata": {
  "kernelspec": {
   "display_name": "Python",
   "language": "python",
   "name": "conda-env-python-py"
  },
  "language_info": {
   "codemirror_mode": {
    "name": "ipython",
    "version": 3
   },
   "file_extension": ".py",
   "mimetype": "text/x-python",
   "name": "python",
   "nbconvert_exporter": "python",
   "pygments_lexer": "ipython3",
   "version": "3.7.12"
  }
 },
 "nbformat": 4,
 "nbformat_minor": 5
}
